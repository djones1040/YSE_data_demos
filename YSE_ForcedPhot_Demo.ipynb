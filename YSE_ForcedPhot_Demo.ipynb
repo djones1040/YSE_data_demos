{
 "cells": [
  {
   "cell_type": "markdown",
   "metadata": {},
   "source": [
    "## Getting YSE Image Stamps and Forced Photometry at a Position\n",
    "\n",
    "IPP can provide forced photometry at any position with YSE data, thanks to a lot of work from Mark and Ken.  The request format is somewhat unintuitive, so this notebook outlines how to make these requests.  Let's use 2021hpr as an example SN with lots of data.  From https://ziggy.ucolick.org/yse/transient_detail/2021smj/ we can get the SN coords"
   ]
  },
  {
   "cell_type": "code",
   "execution_count": 1,
   "metadata": {},
   "outputs": [
    {
     "name": "stderr",
     "output_type": "stream",
     "text": [
      "WARNING: leap-second auto-update failed due to the following exception: ValueError(\"Malformed URL: '//anaconda3/lib/python3.7/site-packages/astropy/utils/iers/data/Leap_Second.dat'\") [astropy.time.core]\n"
     ]
    }
   ],
   "source": [
    "# prelims\n",
    "import numpy as np\n",
    "import requests\n",
    "from astropy.io import fits\n",
    "import os\n",
    "import datetime\n",
    "import numpy as np\n",
    "from astropy.time import Time\n",
    "from requests.auth import HTTPBasicAuth\n",
    "import astropy.table as at\n",
    "import time\n",
    "from io import BytesIO\n",
    "import shutil\n",
    "from lxml import html\n",
    "from astropy.coordinates import SkyCoord\n",
    "import astropy.units as u"
   ]
  },
  {
   "cell_type": "code",
   "execution_count": 2,
   "metadata": {},
   "outputs": [],
   "source": [
    "snid,snra,sndec = '2021smj',186.6939860,8.8826825"
   ]
  },
  {
   "cell_type": "markdown",
   "metadata": {},
   "source": [
    "To get forced photometry from the IPP, you have to submit a request in FITS format.  For that reason there are some preliminary header format things that I've just dumped below, and we'll see how they get used a little later."
   ]
  },
  {
   "cell_type": "code",
   "execution_count": 3,
   "metadata": {},
   "outputs": [],
   "source": [
    "default_stamp_header = fits.Header()\n",
    "default_stamp_header['XTENSION'] = 'BINTABLE'         \n",
    "default_stamp_header['BITPIX']  = 8\n",
    "default_stamp_header['NAXIS']   = 2\n",
    "default_stamp_header['NAXIS1']  = 476\n",
    "default_stamp_header['NAXIS2']  = 9\n",
    "default_stamp_header['PCOUNT']  = 0\n",
    "default_stamp_header['GCOUNT']  = 1\n",
    "default_stamp_header['TFIELDS'] = 24\n",
    "default_stamp_header['TTYPE1']  = 'ROWNUM  '\n",
    "default_stamp_header['TFORM1']  = 'J       '\n",
    "default_stamp_header['TTYPE2']  = 'PROJECT '\n",
    "default_stamp_header['TFORM2']  = '16A     '\n",
    "default_stamp_header['TTYPE3']  = 'SURVEY_NAME'\n",
    "default_stamp_header['TFORM3']  = '16A     '\n",
    "default_stamp_header['TTYPE4']  = 'IPP_RELEASE'\n",
    "default_stamp_header['TFORM4']  = '16A     '\n",
    "default_stamp_header['TTYPE5']  = 'JOB_TYPE'\n",
    "default_stamp_header['TFORM5']  = '16A     '\n",
    "default_stamp_header['TTYPE6']  = 'OPTION_MASK'\n",
    "default_stamp_header['TFORM6']  = 'J       '\n",
    "default_stamp_header['TTYPE7']  = 'REQ_TYPE'\n",
    "default_stamp_header['TFORM7']  = '16A     '\n",
    "default_stamp_header['TTYPE8']  = 'IMG_TYPE'\n",
    "default_stamp_header['TFORM8']  = '16A     '\n",
    "default_stamp_header['TTYPE9']  = 'ID      '\n",
    "default_stamp_header['TFORM9']  = '16A     '\n",
    "default_stamp_header['TTYPE10'] = 'TESS_ID '\n",
    "default_stamp_header['TFORM10'] = '64A     '\n",
    "default_stamp_header['TTYPE11'] = 'COMPONENT'\n",
    "default_stamp_header['TFORM11'] = '64A     '\n",
    "default_stamp_header['TTYPE12'] = 'COORD_MASK'\n",
    "default_stamp_header['TFORM12'] = 'J       '\n",
    "default_stamp_header['TTYPE13'] = 'CENTER_X'\n",
    "default_stamp_header['TFORM13'] = 'D       '\n",
    "default_stamp_header['TTYPE14'] = 'CENTER_Y'\n",
    "default_stamp_header['TFORM14'] = 'D       '\n",
    "default_stamp_header['TTYPE15'] = 'WIDTH   '\n",
    "default_stamp_header['TFORM15'] = 'D       '\n",
    "default_stamp_header['TTYPE16'] = 'HEIGHT  '\n",
    "default_stamp_header['TFORM16'] = 'D       '\n",
    "default_stamp_header['TTYPE17'] = 'DATA_GROUP'\n",
    "default_stamp_header['TFORM17'] = '64A     '\n",
    "default_stamp_header['TTYPE18'] = 'REQFILT '\n",
    "default_stamp_header['TFORM18'] = '16A     '\n",
    "default_stamp_header['TTYPE19'] = 'MJD_MIN '\n",
    "default_stamp_header['TFORM19'] = 'D       '\n",
    "default_stamp_header['TTYPE20'] = 'MJD_MAX '\n",
    "default_stamp_header['TFORM20'] = 'D       '\n",
    "default_stamp_header['TTYPE21'] = 'RUN_TYPE'\n",
    "default_stamp_header['TFORM21'] = '16A     '\n",
    "default_stamp_header['TTYPE22'] = 'FWHM_MIN'\n",
    "default_stamp_header['TFORM22'] = 'D       '\n",
    "default_stamp_header['TTYPE23'] = 'FWHM_MAX'\n",
    "default_stamp_header['TFORM23'] = 'D       '\n",
    "default_stamp_header['TTYPE24'] = 'COMMENT '\n",
    "default_stamp_header['TFORM24'] = '64A     '\n",
    "default_stamp_header['EXTNAME'] = 'PS1_PS_REQUEST'\n",
    "default_stamp_header['REQ_NAME'] = 'yse.meh_stamp_testid200410'\n",
    "default_stamp_header['EXTVER']  = '2       '\n",
    "default_stamp_header['ACTION']  = 'PROCESS '\n",
    "default_stamp_header['EMAIL']   = 'yse@qub.ac.uk'\n",
    "\n",
    "default_forcedphot_header = fits.Header()\n",
    "default_forcedphot_header['XTENSION'] = 'BINTABLE'\n",
    "default_forcedphot_header['BITPIX']   = 8\n",
    "default_forcedphot_header['NAXIS']    = 2\n",
    "default_forcedphot_header['NAXIS1']   = 84\n",
    "default_forcedphot_header['NAXIS2']   = 8\n",
    "default_forcedphot_header['PCOUNT']   = 0\n",
    "default_forcedphot_header['GCOUNT']   = 1\n",
    "default_forcedphot_header['TFIELDS']  = 9\n",
    "default_forcedphot_header['TTYPE1']   = 'ROWNUM  '\n",
    "default_forcedphot_header['TFORM1']   = '20A     '\n",
    "default_forcedphot_header['TTYPE2']   = 'RA1_DEG '\n",
    "default_forcedphot_header['TFORM2']   = 'D       '\n",
    "default_forcedphot_header['TTYPE3']   = 'DEC1_DEG'\n",
    "default_forcedphot_header['TFORM3']   = 'D       '\n",
    "default_forcedphot_header['TTYPE4']   = 'RA2_DEG '\n",
    "default_forcedphot_header['TFORM4']   = 'D       '\n",
    "default_forcedphot_header['TTYPE5']   = 'DEC2_DEG'\n",
    "default_forcedphot_header['TFORM5']   = 'D       '\n",
    "default_forcedphot_header['TTYPE6']   = 'FILTER  '\n",
    "default_forcedphot_header['TFORM6']   = '20A     '\n",
    "default_forcedphot_header['TTYPE7']   = 'MJD-OBS '\n",
    "default_forcedphot_header['TFORM7']   = 'D       '\n",
    "default_forcedphot_header['TTYPE8']   = 'FPA_ID  '\n",
    "default_forcedphot_header['TFORM8']   = 'J       '\n",
    "default_forcedphot_header['TTYPE9']   = 'COMPONENT'\n",
    "default_forcedphot_header['TFORM9']   = '64A     '\n",
    "default_forcedphot_header['EXTNAME']  = 'MOPS_DETECTABILITY_QUERY'\n",
    "default_forcedphot_header['QUERY_ID'] = 'yse.meh_det_test200410'\n",
    "default_forcedphot_header['EXTVER']   = '2       '\n",
    "default_forcedphot_header['OBSCODE']  = '566     '\n",
    "default_forcedphot_header['STAGE']    = 'WSdiff  '\n",
    "default_forcedphot_header['EMAIL']    = 'yse@qub.ac.uk'\n"
   ]
  },
  {
   "cell_type": "markdown",
   "metadata": {},
   "source": [
    "Now we have to figure out which YSE images contain our transient.  Fortunately this info is saved in YSE-PZ, so we just have to query the YSE-PZ API to get details."
   ]
  },
  {
   "cell_type": "code",
   "execution_count": 4,
   "metadata": {},
   "outputs": [
    {
     "name": "stdout",
     "output_type": "stream",
     "text": [
      "https://ziggy.ucolick.org/yse/api/surveyobservations/?ra_gt=185.1251705&ra_lt=188.2628015&dec_gt=7.3326825&dec_lt=10.4326825&obs_mjd_gte=59397.863\n"
     ]
    }
   ],
   "source": [
    "my_ysepz_username = \"djones\"\n",
    "my_ysepz_password = \"BossTent1\"\n",
    "ifauser = \"ps1sc\"\n",
    "ifapass = \"skysurveys\"\n",
    "# let's look for anything in the last 30 days\n",
    "# with field center w/i 1.55 deg of our SN location\n",
    "min_mjd = Time(datetime.datetime.utcnow()).mjd-30\n",
    "my_ysepz_url = f\"https://ziggy.ucolick.org/yse/api/surveyobservations/?ra_gt={(snra-1.55/np.cos(sndec*np.pi/180.)):.7f}&ra_lt={(snra+1.55/np.cos(sndec*np.pi/180.)):.7f}&dec_gt={sndec-1.55:.7f}&dec_lt={sndec+1.55}&obs_mjd_gte={min_mjd:.3f}\"\n",
    "print(my_ysepz_url)"
   ]
  },
  {
   "cell_type": "code",
   "execution_count": 5,
   "metadata": {},
   "outputs": [],
   "source": [
    "# now we need the skycell ID for our SN\n",
    "def getskycell(ra,dec):\n",
    "\n",
    "    session = requests.Session()\n",
    "    session.auth = ('ps1sc','skysurveys')\n",
    "    skycellurl = 'http://pstamp.ipp.ifa.hawaii.edu/findskycell.php'\n",
    "\n",
    "    # First login. Returns session cookie in response header. Even though status_code=401, it is ok\n",
    "    page = session.post(skycellurl)\n",
    "\n",
    "    info = {'ra': (None, ra), 'dec': (None, dec)}\n",
    "    page = session.post(skycellurl, data=info)\n",
    "\n",
    "    skycell = page.text.split(\"<tr><td>RINGS.V3</td><td>skycell.\")[-1].split('</td>')[0]\n",
    "    xpos = page.text.split(\"<tr><td>RINGS.V3</td><td>skycell.\")[-1].split('<td>')[1].split('</td>')[0]\n",
    "    ypos = page.text.split(\"<tr><td>RINGS.V3</td><td>skycell.\")[-1].split('<td>')[2].split('</td>')[0]\n",
    "\n",
    "    return skycell,xpos,ypos\n",
    "skycell = getskycell(snra,sndec)[0]"
   ]
  },
  {
   "cell_type": "markdown",
   "metadata": {},
   "source": [
    "Let's use the requests module to grab the dataset IDs of the YSE images we care about"
   ]
  },
  {
   "cell_type": "code",
   "execution_count": 6,
   "metadata": {},
   "outputs": [],
   "source": [
    "# this is sloppy but let's just write a dictionary to translate phot. band IDs on YSE-PZ to filter names\n",
    "phot_band_dict = {\"https://ziggy.ucolick.org/yse/api/photometricbands/36/\":\"g\",\n",
    "                 \"https://ziggy.ucolick.org/yse/api/photometricbands/37/\":\"r\",\n",
    "                 \"https://ziggy.ucolick.org/yse/api/photometricbands/39/\":\"i\",\n",
    "                 \"https://ziggy.ucolick.org/yse/api/photometricbands/40/\":\"z\",\n",
    "                 \"https://ziggy.ucolick.org/yse/api/photometricbands/41/\":\"y\"}\n",
    "\n",
    "data = requests.get(\n",
    "    my_ysepz_url,\n",
    "    auth=HTTPBasicAuth(my_ysepz_username,my_ysepz_password)).json()\n",
    "    \n",
    "diff_id_list,warp_id_list,mjd_list,filt_list = [],[],[],[]\n",
    "for d in data['results']:\n",
    "    diff_id_list += [d['diff_id']]\n",
    "    warp_id_list += [d['warp_id']]\n",
    "    mjd_list += [d['obs_mjd']]\n",
    "    filt_list += [phot_band_dict[d['photometric_band']]]\n"
   ]
  },
  {
   "cell_type": "markdown",
   "metadata": {},
   "source": [
    "Now we can actually request the photometry by putting together an astropy table with the request details and saving to a FITS file."
   ]
  },
  {
   "cell_type": "code",
   "execution_count": 7,
   "metadata": {},
   "outputs": [],
   "source": [
    "data = at.Table(names=('ROWNUM','RA1_DEG','DEC1_DEG','RA2_DEG','DEC2_DEG','FILTER','MJD-OBS','FPA_ID','COMPONENT_ID'),\n",
    "                dtype=('S20','>f8','>f8','>f8','>f8','S20','>f8','>i4','S64'))\n",
    "for diff_id,mjd,filt,i in zip(diff_id_list,mjd_list,filt_list,range(len(diff_id_list))):\n",
    "    data.add_row((f'forcedphot_ysebot_{i}',snra,sndec,snra,sndec,filt,mjd,diff_id,'skycell.'+skycell) )\n",
    "\n",
    "# let's save the request data to a fits file and send to the IPP:\n",
    "hdr = default_forcedphot_header.copy()\n",
    "request_name = 'YSE-phot.%s.%s.%i'%(snid,diff_id,time.time())\n",
    "hdr['QUERY_ID'] = request_name\n",
    "hdr['EXTNAME'] = 'MOPS_DETECTABILITY_QUERY'\n",
    "hdr['EXTVER'] = '2'\n",
    "hdr['OBSCODE'] = '566'\n",
    "hdr['STAGE'] = 'WSdiff'\n",
    "ff = fits.BinTableHDU(data, header=hdr)\n",
    "\n",
    "s = BytesIO()\n",
    "ff.writeto(s, overwrite=True)\n",
    "\n",
    "\n",
    "def submit_to_ipp(filename_or_obj):\n",
    "\n",
    "    session = requests.Session()\n",
    "    session.auth = (ifauser,ifapass)\n",
    "    stampurl = 'http://pstamp.ipp.ifa.hawaii.edu/upload.php'\n",
    "    \n",
    "    # First login. Returns session cookie in response header. Even though status_code=401, it is ok\n",
    "    page = session.post(stampurl)\n",
    "\n",
    "    if type(filename_or_obj) == str: files = {'filename':open(filename,'rb')}\n",
    "    else: files = {'filename':filename_or_obj.getvalue()}\n",
    "    page = session.post(stampurl, files=files)\n",
    "\n",
    "submit_to_ipp(s)\n"
   ]
  },
  {
   "cell_type": "markdown",
   "metadata": {},
   "source": [
    "wait a little bit, then check to see if the job is done:"
   ]
  },
  {
   "cell_type": "code",
   "execution_count": 10,
   "metadata": {},
   "outputs": [
    {
     "name": "stdout",
     "output_type": "stream",
     "text": [
      "warning: could not find request named YSE-phot.2021smj.2171383.1627850605\n",
      "False False\n"
     ]
    }
   ],
   "source": [
    "def get_status(request_name):\n",
    "\n",
    "    status_link = 'http://pstamp.ipp.ifa.hawaii.edu/status.php'\n",
    "    session = requests.Session()\n",
    "    session.auth = (ifauser,ifapass)\n",
    "\n",
    "    page = session.post(status_link)\n",
    "    page = session.post(status_link)\n",
    "\n",
    "    if page.status_code == 200:\n",
    "        lines_out = []\n",
    "        for line in page.text.split('<pre>')[-1].split('\\n'):\n",
    "            if line and '------------------' not in line and '/pre' not in line:\n",
    "                lines_out += [line[1:]]\n",
    "        text = '\\n'.join(lines_out)\n",
    "        tbl = at.Table.read(text,format='ascii',delimiter='|',data_start=1,header_start=0)\n",
    "\n",
    "        idx = tbl['name'] == request_name\n",
    "        if not len(tbl[idx]):\n",
    "            print('warning: could not find request named %s'%request_name)\n",
    "            return False, False\n",
    "        if tbl['Completion Time (UTC)'][idx]: done = True\n",
    "        else: done = False\n",
    "\n",
    "        if float(tbl['Total Jobs'][idx]) == float(tbl['Successful Jobs'][idx]): success = True\n",
    "        else:\n",
    "            success = False\n",
    "            print('warning: %i of %i jobs failed'%(float(tbl['Total Jobs'][idx])-float(tbl['Successful Jobs'][idx]),float(tbl['Total Jobs'][idx])))\n",
    "\n",
    "    return done,success\n",
    "done,success = get_status(request_name)\n",
    "print(done,success)"
   ]
  },
  {
   "cell_type": "markdown",
   "metadata": {},
   "source": [
    "once the query is successful, we can grab the photometry.  But, you need to ask mark to allow your IP address to access http://datastore.ipp.ifa.hawaii.edu/pstampresults/."
   ]
  },
  {
   "cell_type": "code",
   "execution_count": 9,
   "metadata": {},
   "outputs": [
    {
     "ename": "RuntimeError",
     "evalue": "results page http://datastore.ipp.ifa.hawaii.edu/pstampresults//YSE-phot.2021smj.2171383.1627850605/ does not exist",
     "output_type": "error",
     "traceback": [
      "\u001b[0;31m---------------------------------------------------------------------------\u001b[0m",
      "\u001b[0;31mRuntimeError\u001b[0m                              Traceback (most recent call last)",
      "\u001b[0;32m<ipython-input-9-949182c382ea>\u001b[0m in \u001b[0;36m<module>\u001b[0;34m\u001b[0m\n\u001b[1;32m     65\u001b[0m     \u001b[0;32mreturn\u001b[0m \u001b[0mphot_dict\u001b[0m\u001b[0;34m\u001b[0m\u001b[0;34m\u001b[0m\u001b[0m\n\u001b[1;32m     66\u001b[0m \u001b[0;34m\u001b[0m\u001b[0m\n\u001b[0;32m---> 67\u001b[0;31m \u001b[0mphot_dict\u001b[0m \u001b[0;34m=\u001b[0m \u001b[0mget_phot\u001b[0m\u001b[0;34m(\u001b[0m\u001b[0mrequest_name\u001b[0m\u001b[0;34m)\u001b[0m\u001b[0;34m\u001b[0m\u001b[0;34m\u001b[0m\u001b[0m\n\u001b[0m",
      "\u001b[0;32m<ipython-input-9-949182c382ea>\u001b[0m in \u001b[0;36mget_phot\u001b[0;34m(request_name)\u001b[0m\n\u001b[1;32m     10\u001b[0m     \u001b[0mphot_page\u001b[0m \u001b[0;34m=\u001b[0m \u001b[0mrequests\u001b[0m\u001b[0;34m.\u001b[0m\u001b[0mget\u001b[0m\u001b[0;34m(\u001b[0m\u001b[0murl\u001b[0m\u001b[0;34m=\u001b[0m\u001b[0mphot_results_link\u001b[0m\u001b[0;34m)\u001b[0m\u001b[0;34m\u001b[0m\u001b[0;34m\u001b[0m\u001b[0m\n\u001b[1;32m     11\u001b[0m     \u001b[0;32mif\u001b[0m \u001b[0mphot_page\u001b[0m\u001b[0;34m.\u001b[0m\u001b[0mstatus_code\u001b[0m \u001b[0;34m!=\u001b[0m \u001b[0;36m200\u001b[0m\u001b[0;34m:\u001b[0m\u001b[0;34m\u001b[0m\u001b[0;34m\u001b[0m\u001b[0m\n\u001b[0;32m---> 12\u001b[0;31m         \u001b[0;32mraise\u001b[0m \u001b[0mRuntimeError\u001b[0m\u001b[0;34m(\u001b[0m\u001b[0;34m'results page {} does not exist'\u001b[0m\u001b[0;34m.\u001b[0m\u001b[0mformat\u001b[0m\u001b[0;34m(\u001b[0m\u001b[0mphot_results_link\u001b[0m\u001b[0;34m)\u001b[0m\u001b[0;34m)\u001b[0m\u001b[0;34m\u001b[0m\u001b[0;34m\u001b[0m\u001b[0m\n\u001b[0m\u001b[1;32m     13\u001b[0m \u001b[0;34m\u001b[0m\u001b[0m\n\u001b[1;32m     14\u001b[0m     \u001b[0mtree\u001b[0m \u001b[0;34m=\u001b[0m \u001b[0mhtml\u001b[0m\u001b[0;34m.\u001b[0m\u001b[0mfromstring\u001b[0m\u001b[0;34m(\u001b[0m\u001b[0mphot_page\u001b[0m\u001b[0;34m.\u001b[0m\u001b[0mcontent\u001b[0m\u001b[0;34m)\u001b[0m\u001b[0;34m\u001b[0m\u001b[0;34m\u001b[0m\u001b[0m\n",
      "\u001b[0;31mRuntimeError\u001b[0m: results page http://datastore.ipp.ifa.hawaii.edu/pstampresults//YSE-phot.2021smj.2171383.1627850605/ does not exist"
     ]
    }
   ],
   "source": [
    "def get_phot(request_name):\n",
    "    sct = SkyCoord(snra,sndec,unit=u.deg)\n",
    "\n",
    "    phot_dict = {'mjd':[],'filt':[],'flux':[],'flux_err':[],'dq':[],'stack_id':[],\n",
    "                 'warp_id':[],'diff_id':[],'ra':[],'dec':[],'exptime':[],'zpt':[]}\n",
    "    \n",
    "    phot_link = 'http://datastore.ipp.ifa.hawaii.edu/pstampresults/'\n",
    "    phot_results_link = '{}/{}/'.format(phot_link,request_name)\n",
    "\n",
    "    phot_page = requests.get(url=phot_results_link)\n",
    "    if phot_page.status_code != 200:\n",
    "        raise RuntimeError('results page {} does not exist'.format(phot_results_link))\n",
    "\n",
    "    tree = html.fromstring(phot_page.content)\n",
    "    fitsfiles = tree.xpath('//a/text()')\n",
    "    for f in fitsfiles:\n",
    "        if 'detectability' in f:\n",
    "            phot_fits_link = '{}/{}/{}'.format(phot_link,request_name,f)\n",
    "            fits_response = requests.get(url=phot_fits_link,stream=True)\n",
    "\n",
    "            # this is a pain but it seems necessary\n",
    "            tmpfits = tempfile.NamedTemporaryFile(delete=False)\n",
    "            shutil.copyfileobj(fits_response.raw, tmpfits)\n",
    "            tmpfits.close()\n",
    "            ff = fits.open(tmpfits.name)\n",
    "            os.remove(tmpfits.name)\n",
    "            for i in range(len(ff[1].data)):\n",
    "                mjd = ff[0].header['MJD-OBS']\n",
    "                exptime = ff[0].header['EXPTIME']\n",
    "                filt = ff[0].header['FPA.FILTER'].split('.')[0]\n",
    "                flux = ff[1].data['PSF_INST_FLUX'][i]\n",
    "                flux_err = ff[1].data['PSF_INST_FLUX_SIG'][i]\n",
    "\n",
    "                if ff[1].data['PSF_QF'][i] < 0.9 or \\\n",
    "                   (ff[1].data['FLAGS'][i] & 0x00001000) or \\\n",
    "                   (ff[1].data['FLAGS'][i] & 0x20000000) or \\\n",
    "                   (ff[1].data['FLAGS'][i] & 0x40000000) or \\\n",
    "                   (ff[1].data['FLAGS'][i] & 0x80000000) or \\\n",
    "                   (ff[1].data['FLAGS'][i] & 0x00000080) or \\\n",
    "                   (ff[1].data['FLAGS'][i] & 0x00000800): dq = 1\n",
    "                else: dq = 0\n",
    "                stack_id = ff[0].header['PPSUB.REFERENCE'].split('.')[-3]\n",
    "                warp_id = ff[0].header['PPSUB.INPUT'].split('.')[3]\n",
    "                ra = ff[1].data['RA_PSF'][i]\n",
    "                dec = ff[1].data['DEC_PSF'][i]\n",
    "                sc = SkyCoord(ff[1].data['RA_PSF'][i],ff[1].data['DEC_PSF'][i],unit=u.deg)\n",
    "                sep = sc.separation(sct).arcsec\n",
    "                if np.min(sep) > 2:\n",
    "                    raise RuntimeError(\n",
    "                        'couldn\\'t find transient match for RA,Dec=%.7f,%.7f'%(\n",
    "                        ff[1].data['RA_PSF'][i],ff[1].data['DEC_PSF'][i]))\n",
    "\n",
    "                phot_dict['mjd'] += [mjd]\n",
    "                phot_dict['filt'] += [filt]\n",
    "                phot_dict['flux'] += [flux]\n",
    "                phot_dict['flux_err'] += [flux_err]\n",
    "                phot_dict['dq'] += [dq]\n",
    "                phot_dict['warp_id'] += [warp_id]\n",
    "                phot_dict['diff_id'] += [f.split('.')[2]]\n",
    "                phot_dict['ra'] += [ra]\n",
    "                phot_dict['dec'] += [dec]\n",
    "                phot_dict['exptime'] += [exptime]\n",
    "                phot_dict['zpt'] += [ff[0].header['FPA.ZP']]\n",
    "\n",
    "    return phot_dict\n",
    "\n",
    "phot_dict = get_phot(request_name)"
   ]
  },
  {
   "cell_type": "code",
   "execution_count": null,
   "metadata": {},
   "outputs": [],
   "source": [
    "import matplotlib.pyplot as plt\n",
    "%matplotlib inline"
   ]
  },
  {
   "cell_type": "code",
   "execution_count": null,
   "metadata": {},
   "outputs": [],
   "source": [
    "plt.plot(phot_dict['mjd'],phot_dict['flux'],'o')"
   ]
  }
 ],
 "metadata": {
  "kernelspec": {
   "display_name": "Python 3",
   "language": "python",
   "name": "python3"
  },
  "language_info": {
   "codemirror_mode": {
    "name": "ipython",
    "version": 3
   },
   "file_extension": ".py",
   "mimetype": "text/x-python",
   "name": "python",
   "nbconvert_exporter": "python",
   "pygments_lexer": "ipython3",
   "version": "3.7.9"
  }
 },
 "nbformat": 4,
 "nbformat_minor": 4
}
