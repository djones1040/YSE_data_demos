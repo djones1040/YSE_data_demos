{
 "cells": [
  {
   "cell_type": "markdown",
   "metadata": {},
   "source": [
    "# Photometric Reductions with Photpipe\n",
    "\n",
    "This is a very quick tutorial for reducing data on the DARK cluster with photpipe.  The data coming from the IPP has a couple of known issues related to zeropoints and overestimated photometric uncertainties that can be addressed by photpipe.  It can also be helpful to visually inspect the intermediate data products leading to your photometry.\n",
    "\n",
    "Photpipe takes YSE data (see `YSE_data_coords.ipynb` for accessing YSE data on the DARK cluster) and measures photometry on objects in the field, measures zeropoints using PS1 public catalogs, performs difference imaging, and then performs forced photometry on the weighted-average centroid of the SN location.\n",
    "\n",
    "There is some photpipe documentation put together by Justin Roberts-Pierel at https://photpipe-docs.readthedocs.io/en/latest/, but it's relatively incomplete for the moment.\n",
    "\n",
    "In this tutorial, I'll walk through a quick example of how to add a new object to photpipe's list of YSE objects and walk through the full pipeline.  There are a few issues with these steps, and additional developers are always appreciated :)."
   ]
  },
  {
   "cell_type": "markdown",
   "metadata": {},
   "source": [
    "## Basics of DARK and the Photpipe Environment\n",
    "\n",
    "To log in to the DARK cluster, SSH to one of the login nodes, e.g.:\n",
    "\n",
    "```\n",
    "ssh -XY <username>@fend01.hpc.ku.dk\n",
    "```\n",
    "\n",
    "To activate the photpipe environment on the DARK cluster, use the following command:\n",
    "\n",
    "```\n",
    "source /lustre/hpc/storage/dark/YSE/photpipe/config/PS1/GPC1v3/GPC1YSE.bash.sourceme\n",
    "```\n",
    "\n",
    "This will create a bunch of aliases that can help you navigate around the directories photpipe uses.  The most important are:\n",
    "\n",
    "```\n",
    "cdraw # the raw data\n",
    "cdwork # the directory with intermediate data products\n",
    "cdconfig # the configuration directory\n",
    "cdpython # the python codes.  Most YSE-specific scripts are in the YSE subdirectory\n",
    "cdperl # the perl scripts that manage most of the photpipe stages\n",
    "```\n",
    "\n",
    "Similarly, there are some useful environment variables defined:\n",
    "\n",
    "```\n",
    "$PIPE_PYTHONSCRIPTS # the python code\n",
    "$PIPE_DATA # the top-level data directory, containing raw data, workspace, and output lightcurve subdirectories\n",
    "$PIPE_SRC # the top-level code directory\n",
    "```"
   ]
  },
  {
   "cell_type": "markdown",
   "metadata": {},
   "source": [
    "## Add a New Object and Copy Over the Data\n",
    "\n",
    "Now that we've started up Photpipe, I'll get forced photometry of SN 2021smj, the same object I requested forced photometry for in the other tutorial.  The first step is initializing the photpipe environment and adding the object to YSE's master list."
   ]
  },
  {
   "cell_type": "code",
   "execution_count": 1,
   "metadata": {},
   "outputs": [],
   "source": [
    "# basic imports\n",
    "import os\n",
    "import numpy as np\n",
    "import glob"
   ]
  },
  {
   "cell_type": "code",
   "execution_count": 2,
   "metadata": {},
   "outputs": [
    {
     "data": {
      "text/plain": [
       "256"
      ]
     },
     "execution_count": 2,
     "metadata": {},
     "output_type": "execute_result"
    }
   ],
   "source": [
    "# activates the photpipe environment on DARK\n",
    "# I suggest adding an alias for this command to your ~/.bashrc file\n",
    "os.system('source /lustre/hpc/storage/dark/YSE/photpipe/config/PS1/GPC1v3/GPC1YSE.bash.sourceme')"
   ]
  },
  {
   "cell_type": "code",
   "execution_count": 3,
   "metadata": {},
   "outputs": [
    {
     "data": {
      "text/plain": [
       "32512"
      ]
     },
     "execution_count": 3,
     "metadata": {},
     "output_type": "execute_result"
    }
   ],
   "source": [
    "cmd = 'YSEmasterlist.py -n 2021smj 12:26:46.56 +08:52:57.66 --type SNIa -z 0.00421'\n",
    "os.system(cmd)"
   ]
  },
  {
   "cell_type": "markdown",
   "metadata": {},
   "source": [
    "Now copy the YSE data to directories where photpipe will recognize it.  The `--imsizepix` argument should probably be ~3000 pixels.  Ideally we would use smaller stamps as the point-spread function of Pan-STARRS1 varies really rapidly near the center of the field of view.  But, small stamps sometimes have zeropoint failures because they have too few stars.  So this is a tradeoff - what we really need is a spatially varying PSF photometry scheme or an iterative method that goes back and changes the image stamp sizes for transients with zeropoint failures.\n",
    "\n",
    "The command below launches in batch mode and I've had some issues with missing data resulting from batch mode here.  This command really needs a validation stage at the end where it ensures that all the data have been copied over and re-submits jobs as needed but I haven't done that yet."
   ]
  },
  {
   "cell_type": "code",
   "execution_count": 4,
   "metadata": {},
   "outputs": [
    {
     "data": {
      "text/plain": [
       "32512"
      ]
     },
     "execution_count": 4,
     "metadata": {},
     "output_type": "execute_result"
    }
   ],
   "source": [
    "cmd = 'cpYSEdata.py -t 2021smj --imsizepix 3000 --batch'\n",
    "os.system(cmd)"
   ]
  },
  {
   "cell_type": "markdown",
   "metadata": {},
   "source": [
    "Once these jobs have finished (`squeue --user=<username>` comes up empty) then we need templates for our object from the PS1 3pi survey.  To do this, we request the templates from IPP with YSEmasterlist.py.  This will take a few minutes, and again, you'll have to check for failures."
   ]
  },
  {
   "cell_type": "code",
   "execution_count": 5,
   "metadata": {},
   "outputs": [
    {
     "data": {
      "text/plain": [
       "32512"
      ]
     },
     "execution_count": 5,
     "metadata": {},
     "output_type": "execute_result"
    }
   ],
   "source": [
    "cmd = 'YSEmasterlist.py -g --batch -e 2021smj --imsizepix 3000'\n",
    "os.system(cmd)"
   ]
  },
  {
   "cell_type": "markdown",
   "metadata": {},
   "source": [
    "If all of the above worked, you should be able to type `cdraw` and see the FITS files in:\n",
    "\n",
    "```\n",
    "2021smj/g\n",
    "2021smj/r\n",
    "2021smj/i\n",
    "2021smj/z\n",
    "2021smj/tmpl/g\n",
    "2021smj/tmpl/r\n",
    "2021smj/tmpl/i\n",
    "2021smj/tmpl/z\n",
    "```"
   ]
  },
  {
   "cell_type": "markdown",
   "metadata": {},
   "source": [
    "## Running Photpipe\n",
    "\n",
    "Once all the data are in place, the next step is to first reduce the template data.  The -condor flag sends everything to the DARK queue system so you don't have to wait interactively for everything to finish"
   ]
  },
  {
   "cell_type": "code",
   "execution_count": 6,
   "metadata": {},
   "outputs": [
    {
     "data": {
      "text/plain": [
       "32512"
      ]
     },
     "execution_count": 6,
     "metadata": {},
     "output_type": "execute_result"
    }
   ],
   "source": [
    "cmd = 'eventloop.pl -eventstmpl 2021smj -condor'\n",
    "os.system(cmd)"
   ]
  },
  {
   "cell_type": "markdown",
   "metadata": {},
   "source": [
    "We can check on the status of our jobs with `eventstats.pl` which gives a list of stages and success/failures.  The syntax for `eventstats.pl` is the same as for `eventloop.pl` - just replace eventstats with eventloop in the command:"
   ]
  },
  {
   "cell_type": "code",
   "execution_count": 7,
   "metadata": {},
   "outputs": [
    {
     "data": {
      "text/plain": [
       "32512"
      ]
     },
     "execution_count": 7,
     "metadata": {},
     "output_type": "execute_result"
    }
   ],
   "source": [
    "cmd = 'eventstats.pl -eventstmpl 2021smj -condor'\n",
    "os.system(cmd)"
   ]
  },
  {
   "cell_type": "markdown",
   "metadata": {},
   "source": [
    "The output should look something like this:\n",
    "\n",
    "```\n",
    "================================================================================\n",
    "info                           || current/last run  || total\n",
    "================================================================================\n",
    "date           stage        CCD|| Nin   Nsuc  Nfail || Nall  Nout (%)      Nfail\n",
    "2021smj_tmpl_g FINDNEWIM    g  || 1     1     0     || 1     1    (100.0)  0\n",
    "2021smj_tmpl_g CPFIX        g  || 1     1     0     || 1     1    (100.0)  0\n",
    "2021smj_tmpl_g DOPHOT       g  || 1     1     0     || 1     1    (100.0)  0\n",
    "2021smj_tmpl_g ABSPHOT      g  || 1     1     0     || 1     1    (100.0)  0\n",
    "2021smj_tmpl_r FINDNEWIM    r  || 1     1     0     || 1     1    (100.0)  0\n",
    "2021smj_tmpl_r CPFIX        r  || 1     1     0     || 1     1    (100.0)  0\n",
    "2021smj_tmpl_r DOPHOT       r  || 1     1     0     || 1     1    (100.0)  0\n",
    "2021smj_tmpl_r ABSPHOT      r  || 1     0     1     || 1     0    (  0.0)  1\n",
    "2021smj_tmpl_i FINDNEWIM    i  || 1     1     0     || 1     1    (100.0)  0\n",
    "2021smj_tmpl_i CPFIX        i  || 1     1     0     || 1     1    (100.0)  0\n",
    "2021smj_tmpl_i DOPHOT       i  || 1     1     0     || 1     1    (100.0)  0\n",
    "2021smj_tmpl_i ABSPHOT      i  || 1     1     0     || 1     1    (100.0)  0\n",
    "2021smj_tmpl_z FINDNEWIM    z  || 1     1     0     || 1     1    (100.0)  0\n",
    "2021smj_tmpl_z CPFIX        z  || 1     1     0     || 1     1    (100.0)  0\n",
    "2021smj_tmpl_z DOPHOT       z  || 1     1     0     || 1     1    (100.0)  0\n",
    "2021smj_tmpl_z ABSPHOT      z  || 1     1     0     || 1     1    (100.0)  0\n",
    "2021smj_tmpl_y FINDNEWIM    y  || 0     0     0     || 0     0    (  0.0)  0\n",
    "2021smj_tmpl_y CPFIX        y  || 0     0     0     || 0     0    (  0.0)  0\n",
    "2021smj_tmpl_y DOPHOT       y  || 0     0     0     || 0     0    (  0.0)  0\n",
    "2021smj_tmpl_y ABSPHOT      y  || 0     0     0     || 0     0    (  0.0)  0\n",
    "================================================================================\n",
    "```\n",
    "\n",
    "Here, it looks as though photpipe was unable to measure a zeropoint for the r-band template image.  I'm going to ignore this for now, but in practice you would likely need to re-run cpYSEdata.py with the `--clobber` flag and the argument `--imsizepix 6000`\n",
    "\n",
    "Once the templates show `1` for all stages in the Nsuc column, you can run the full photometric reduction.  This part will take significantly longer than the templates stage because there are many more images, and photpipe needs to also due difference imaging steps."
   ]
  },
  {
   "cell_type": "code",
   "execution_count": 8,
   "metadata": {},
   "outputs": [
    {
     "data": {
      "text/plain": [
       "32512"
      ]
     },
     "execution_count": 8,
     "metadata": {},
     "output_type": "execute_result"
    }
   ],
   "source": [
    "cmd = 'eventloop.pl -events 2021smj -condor'\n",
    "os.system(cmd)"
   ]
  },
  {
   "cell_type": "markdown",
   "metadata": {},
   "source": [
    "Once these steps have finished - again, use the eventstats.pl command, we need to determine the exact position of our SN so that we can perform forced photometry.  This is done by the `eventrecenter.pl` script, which uses the weighted average of the object detections in difference images to find the best centroid for the transient.  The command is:"
   ]
  },
  {
   "cell_type": "code",
   "execution_count": 9,
   "metadata": {},
   "outputs": [
    {
     "data": {
      "text/plain": [
       "32512"
      ]
     },
     "execution_count": 9,
     "metadata": {},
     "output_type": "execute_result"
    }
   ],
   "source": [
    "cmd = 'eventrecenter.pl -events 2021smj'\n",
    "os.system(cmd)"
   ]
  },
  {
   "cell_type": "markdown",
   "metadata": {},
   "source": [
    "If this stage succeeds, then we have a good centroid and can measure photometry at that position across all images.  This is done with a special photpipe stage:"
   ]
  },
  {
   "cell_type": "code",
   "execution_count": 10,
   "metadata": {},
   "outputs": [
    {
     "data": {
      "text/plain": [
       "32512"
      ]
     },
     "execution_count": 10,
     "metadata": {},
     "output_type": "execute_result"
    }
   ],
   "source": [
    "cmd = 'eventloop.pl -events 2021smj -forcestage EVENTLC -condor -redo'\n",
    "os.system(cmd)"
   ]
  },
  {
   "cell_type": "markdown",
   "metadata": {},
   "source": [
    "I always use the `-redo` flag with this stage to make sure that if this isn't the first time running the object through photpipe, we don't accidentally produce a lightcurve with only *some* of the photometric epochs.\n",
    "\n",
    "Once this stage has finished, the output lightcurves are located in `$PIPE_DATA/eventspagesv1/2021smj_tmpl`.  The files you care about are the `*forceddifflc.txt` files, though their format is nearly incomprehensible.  I wrote a script a number of years ago that takes the relevant columns and produces a more condensed photometry file (admittedly in a kind of idiosyncratic format) that contains magnitudes and zeropoint = 27.5 fluxes.  To run:"
   ]
  },
  {
   "cell_type": "code",
   "execution_count": 11,
   "metadata": {},
   "outputs": [
    {
     "data": {
      "text/plain": [
       "32512"
      ]
     },
     "execution_count": 11,
     "metadata": {},
     "output_type": "execute_result"
    }
   ],
   "source": [
    "os.system('mksnanalc.py 2021smj')"
   ]
  },
  {
   "cell_type": "markdown",
   "metadata": {},
   "source": [
    "If everything went well up to this point, there's a convenience script for reading in those output files and working with the data."
   ]
  },
  {
   "cell_type": "code",
   "execution_count": 12,
   "metadata": {},
   "outputs": [
    {
     "ename": "RuntimeError",
     "evalue": "$PIPE_DATA/eventspagesv1/2021smj_tmpl/GPC1v3_2021smj.snana.dat does not exist.",
     "output_type": "error",
     "traceback": [
      "\u001b[0;31m---------------------------------------------------------------------------\u001b[0m",
      "\u001b[0;31mRuntimeError\u001b[0m                              Traceback (most recent call last)",
      "\u001b[0;32m<ipython-input-12-63d15386ddf3>\u001b[0m in \u001b[0;36m<module>\u001b[0;34m\u001b[0m\n\u001b[1;32m      2\u001b[0m \u001b[0;32mimport\u001b[0m \u001b[0mmatplotlib\u001b[0m\u001b[0;34m.\u001b[0m\u001b[0mpyplot\u001b[0m \u001b[0;32mas\u001b[0m \u001b[0mplt\u001b[0m\u001b[0;34m\u001b[0m\u001b[0;34m\u001b[0m\u001b[0m\n\u001b[1;32m      3\u001b[0m \u001b[0mget_ipython\u001b[0m\u001b[0;34m(\u001b[0m\u001b[0;34m)\u001b[0m\u001b[0;34m.\u001b[0m\u001b[0mrun_line_magic\u001b[0m\u001b[0;34m(\u001b[0m\u001b[0;34m'matplotlib'\u001b[0m\u001b[0;34m,\u001b[0m \u001b[0;34m'inline'\u001b[0m\u001b[0;34m)\u001b[0m\u001b[0;34m\u001b[0m\u001b[0;34m\u001b[0m\u001b[0m\n\u001b[0;32m----> 4\u001b[0;31m \u001b[0msn\u001b[0m \u001b[0;34m=\u001b[0m \u001b[0msnana\u001b[0m\u001b[0;34m.\u001b[0m\u001b[0mSuperNova\u001b[0m\u001b[0;34m(\u001b[0m\u001b[0mos\u001b[0m\u001b[0;34m.\u001b[0m\u001b[0mpath\u001b[0m\u001b[0;34m.\u001b[0m\u001b[0mexpandvars\u001b[0m\u001b[0;34m(\u001b[0m\u001b[0;34m'$PIPE_DATA/eventspagesv1/2021smj_tmpl/GPC1v3_2021smj.snana.dat'\u001b[0m\u001b[0;34m)\u001b[0m\u001b[0;34m)\u001b[0m\u001b[0;34m\u001b[0m\u001b[0;34m\u001b[0m\u001b[0m\n\u001b[0m\u001b[1;32m      5\u001b[0m \u001b[0;32mfor\u001b[0m \u001b[0mfilt\u001b[0m \u001b[0;32min\u001b[0m \u001b[0mnp\u001b[0m\u001b[0;34m.\u001b[0m\u001b[0munique\u001b[0m\u001b[0;34m(\u001b[0m\u001b[0msn\u001b[0m\u001b[0;34m.\u001b[0m\u001b[0mFLT\u001b[0m\u001b[0;34m)\u001b[0m\u001b[0;34m:\u001b[0m\u001b[0;34m\u001b[0m\u001b[0;34m\u001b[0m\u001b[0m\n\u001b[1;32m      6\u001b[0m     \u001b[0mplt\u001b[0m\u001b[0;34m.\u001b[0m\u001b[0merrorbar\u001b[0m\u001b[0;34m(\u001b[0m\u001b[0msn\u001b[0m\u001b[0;34m.\u001b[0m\u001b[0mMJD\u001b[0m\u001b[0;34m[\u001b[0m\u001b[0msn\u001b[0m\u001b[0;34m.\u001b[0m\u001b[0mFLT\u001b[0m \u001b[0;34m==\u001b[0m \u001b[0mfilt\u001b[0m\u001b[0;34m]\u001b[0m\u001b[0;34m,\u001b[0m\u001b[0msn\u001b[0m\u001b[0;34m.\u001b[0m\u001b[0mMAG\u001b[0m\u001b[0;34m[\u001b[0m\u001b[0msn\u001b[0m\u001b[0;34m.\u001b[0m\u001b[0mFLT\u001b[0m \u001b[0;34m==\u001b[0m \u001b[0mfilt\u001b[0m\u001b[0;34m]\u001b[0m\u001b[0;34m,\u001b[0m\u001b[0myerr\u001b[0m\u001b[0;34m=\u001b[0m\u001b[0msn\u001b[0m\u001b[0;34m.\u001b[0m\u001b[0mMAGERR\u001b[0m\u001b[0;34m[\u001b[0m\u001b[0msn\u001b[0m\u001b[0;34m.\u001b[0m\u001b[0mFLT\u001b[0m \u001b[0;34m==\u001b[0m \u001b[0mfilt\u001b[0m\u001b[0;34m]\u001b[0m\u001b[0;34m,\u001b[0m\u001b[0mfmt\u001b[0m\u001b[0;34m=\u001b[0m\u001b[0;34m'o'\u001b[0m\u001b[0;34m)\u001b[0m\u001b[0;34m\u001b[0m\u001b[0;34m\u001b[0m\u001b[0m\n",
      "\u001b[0;32m~/Dropbox/research/pyutil/snana.py\u001b[0m in \u001b[0;36m__init__\u001b[0;34m(self, datfile, simname, snid, verbose, simdir)\u001b[0m\n\u001b[1;32m     96\u001b[0m                 \u001b[0;32melif\u001b[0m \u001b[0mdatfile\u001b[0m \u001b[0;34m:\u001b[0m\u001b[0;34m\u001b[0m\u001b[0;34m\u001b[0m\u001b[0m\n\u001b[1;32m     97\u001b[0m                         \u001b[0;32mif\u001b[0m \u001b[0mverbose\u001b[0m \u001b[0;34m:\u001b[0m \u001b[0mprint\u001b[0m\u001b[0;34m(\u001b[0m\u001b[0;34m\"Reading in data from light curve file %s\"\u001b[0m\u001b[0;34m%\u001b[0m\u001b[0;34m(\u001b[0m\u001b[0mdatfile\u001b[0m\u001b[0;34m)\u001b[0m\u001b[0;34m)\u001b[0m\u001b[0;34m\u001b[0m\u001b[0;34m\u001b[0m\u001b[0m\n\u001b[0;32m---> 98\u001b[0;31m                         \u001b[0mself\u001b[0m\u001b[0;34m.\u001b[0m\u001b[0mreaddatfile\u001b[0m\u001b[0;34m(\u001b[0m \u001b[0mdatfile\u001b[0m \u001b[0;34m)\u001b[0m\u001b[0;34m\u001b[0m\u001b[0;34m\u001b[0m\u001b[0m\n\u001b[0m\u001b[1;32m     99\u001b[0m \u001b[0;34m\u001b[0m\u001b[0m\n\u001b[1;32m    100\u001b[0m         \u001b[0;34m@\u001b[0m\u001b[0mproperty\u001b[0m\u001b[0;34m\u001b[0m\u001b[0;34m\u001b[0m\u001b[0m\n",
      "\u001b[0;32m~/Dropbox/research/pyutil/snana.py\u001b[0m in \u001b[0;36mreaddatfile\u001b[0;34m(self, datfile)\u001b[0m\n\u001b[1;32m    365\u001b[0m                 \u001b[0;32mfrom\u001b[0m \u001b[0mnumpy\u001b[0m \u001b[0;32mimport\u001b[0m \u001b[0marray\u001b[0m\u001b[0;34m,\u001b[0m\u001b[0mlog10\u001b[0m\u001b[0;34m,\u001b[0m\u001b[0munique\u001b[0m\u001b[0;34m,\u001b[0m\u001b[0mwhere\u001b[0m\u001b[0;34m\u001b[0m\u001b[0;34m\u001b[0m\u001b[0m\n\u001b[1;32m    366\u001b[0m \u001b[0;34m\u001b[0m\u001b[0m\n\u001b[0;32m--> 367\u001b[0;31m                 \u001b[0;32mif\u001b[0m \u001b[0;32mnot\u001b[0m \u001b[0mos\u001b[0m\u001b[0;34m.\u001b[0m\u001b[0mpath\u001b[0m\u001b[0;34m.\u001b[0m\u001b[0misfile\u001b[0m\u001b[0;34m(\u001b[0m\u001b[0mdatfile\u001b[0m\u001b[0;34m)\u001b[0m\u001b[0;34m:\u001b[0m \u001b[0;32mraise\u001b[0m \u001b[0mRuntimeError\u001b[0m\u001b[0;34m(\u001b[0m \u001b[0;34m\"%s does not exist.\"\u001b[0m\u001b[0;34m%\u001b[0m\u001b[0mdatfile\u001b[0m\u001b[0;34m)\u001b[0m\u001b[0;34m\u001b[0m\u001b[0;34m\u001b[0m\u001b[0m\n\u001b[0m\u001b[1;32m    368\u001b[0m                 \u001b[0mself\u001b[0m\u001b[0;34m.\u001b[0m\u001b[0mdatfile\u001b[0m \u001b[0;34m=\u001b[0m \u001b[0mos\u001b[0m\u001b[0;34m.\u001b[0m\u001b[0mpath\u001b[0m\u001b[0;34m.\u001b[0m\u001b[0mabspath\u001b[0m\u001b[0;34m(\u001b[0m\u001b[0mdatfile\u001b[0m\u001b[0;34m)\u001b[0m\u001b[0;34m\u001b[0m\u001b[0;34m\u001b[0m\u001b[0m\n\u001b[1;32m    369\u001b[0m                 \u001b[0mfin\u001b[0m \u001b[0;34m=\u001b[0m \u001b[0mopen\u001b[0m\u001b[0;34m(\u001b[0m\u001b[0mdatfile\u001b[0m\u001b[0;34m,\u001b[0m\u001b[0;34m'r'\u001b[0m\u001b[0;34m)\u001b[0m\u001b[0;34m\u001b[0m\u001b[0;34m\u001b[0m\u001b[0m\n",
      "\u001b[0;31mRuntimeError\u001b[0m: $PIPE_DATA/eventspagesv1/2021smj_tmpl/GPC1v3_2021smj.snana.dat does not exist."
     ]
    }
   ],
   "source": [
    "import snana\n",
    "import matplotlib.pyplot as plt\n",
    "%matplotlib inline\n",
    "sn = snana.SuperNova(os.path.expandvars('$PIPE_DATA/eventspagesv1/2021smj_tmpl/GPC1v3_2021smj.snana.dat'))\n",
    "for filt in np.unique(sn.FLT):\n",
    "    plt.errorbar(sn.MJD[sn.FLT == filt],sn.MAG[sn.FLT == filt],yerr=sn.MAGERR[sn.FLT == filt],fmt='o')"
   ]
  },
  {
   "cell_type": "markdown",
   "metadata": {},
   "source": [
    "## A Few Other Tricks for eventloop.pl\n",
    "\n",
    "The eventloop.pl script (and eventstats.pl as well) has a ton of options that can be used for debugging or just investigating particular stages of photpipe.  I've tried to list a few below:\n",
    "\n",
    "```\n",
    "option               description\n",
    "\n",
    "-redo                set this flag if you need to repeat the output of a previous stage\n",
    "\n",
    "-condor              for batch mode.  *don't* use if you want to see the output interactively\n",
    "\n",
    "-maxin <number>      run only a certain number of images.  Useful for debugging or testing.\n",
    "    \n",
    "-stage <stage_name>  only run a certain stage.  If you provide a gibberish name, it will tell you the correct names\n",
    "    \n",
    "-forcestage <name>   same as -stage, but for some special stages like EVENTLC above\n",
    "```"
   ]
  },
  {
   "cell_type": "markdown",
   "metadata": {},
   "source": [
    "## A Few Notes about Directories\n",
    "\n",
    "All of the intermediate data products from the stage prior to difference imaging are in `$PIPE_DATA/workspace/<object_name>`, while all of the data products after the difference imaging stage are in `$PIPE_DATA/workspace/<object_name>_tmpl`.  Photometry performed on the images are in `*.dcmp` files, which are a weird format with a FITS header but ASCII catalog data.  I like to read these in with a code I wrote ages ago:\n",
    "\n",
    "```\n",
    "from txtobj import txtobj\n",
    "dcmp = txtobj(my_dcmp_filename,cmpheader=True)\n",
    "print(dcmp.Xpos,dcmp.Ypos,dcmp.FLUX)\n",
    "\n",
    "# what's the zeropoint of the fluxes?\n",
    "from astropy.io import fits\n",
    "zpt = fits.getval(my_dcmp_filename,'ZPTMAG')\n",
    "```"
   ]
  },
  {
   "cell_type": "markdown",
   "metadata": {},
   "source": [
    "## Running Photpipe on the Regular Images\n",
    "\n",
    "Running photpipe on the regular images for e.g., galaxy photometry is simpler than running the full pipeline.  The pipeline only needs to be run through to the ABSPHOT stage:"
   ]
  },
  {
   "cell_type": "code",
   "execution_count": 13,
   "metadata": {},
   "outputs": [
    {
     "data": {
      "text/plain": [
       "32512"
      ]
     },
     "execution_count": 13,
     "metadata": {},
     "output_type": "execute_result"
    }
   ],
   "source": [
    "cmd = 'eventloop.pl -events 2021smj -stage FINDNEWIM,CPFIX,DOPHOT,ABSPHOT -condor'\n",
    "os.system(cmd)"
   ]
  },
  {
   "cell_type": "markdown",
   "metadata": {},
   "source": [
    "These steps will use DOPHOT to measure photometry for all objects in the field, and then you just have to write a quick script to extract the photometry for the objects you care about.  For example:"
   ]
  },
  {
   "cell_type": "code",
   "execution_count": 14,
   "metadata": {},
   "outputs": [
    {
     "name": "stderr",
     "output_type": "stream",
     "text": [
      "WARNING: leap-second auto-update failed due to the following exception: ValueError(\"Malformed URL: '//anaconda3/lib/python3.7/site-packages/astropy/utils/iers/data/Leap_Second.dat'\") [astropy.time.core]\n"
     ]
    },
    {
     "ename": "NameError",
     "evalue": "name 'dcmpfiles' is not defined",
     "output_type": "error",
     "traceback": [
      "\u001b[0;31m---------------------------------------------------------------------------\u001b[0m",
      "\u001b[0;31mNameError\u001b[0m                                 Traceback (most recent call last)",
      "\u001b[0;32m<ipython-input-14-53c8064410b3>\u001b[0m in \u001b[0;36m<module>\u001b[0;34m\u001b[0m\n\u001b[1;32m      3\u001b[0m \u001b[0;32mfrom\u001b[0m \u001b[0mastropy\u001b[0m\u001b[0;34m.\u001b[0m\u001b[0mwcs\u001b[0m \u001b[0;32mimport\u001b[0m \u001b[0mWCS\u001b[0m\u001b[0;34m\u001b[0m\u001b[0;34m\u001b[0m\u001b[0m\n\u001b[1;32m      4\u001b[0m \u001b[0mdcmp_files\u001b[0m \u001b[0;34m=\u001b[0m \u001b[0mglob\u001b[0m\u001b[0;34m.\u001b[0m\u001b[0mglob\u001b[0m\u001b[0;34m(\u001b[0m\u001b[0mos\u001b[0m\u001b[0;34m.\u001b[0m\u001b[0mpath\u001b[0m\u001b[0;34m.\u001b[0m\u001b[0mexpandvars\u001b[0m\u001b[0;34m(\u001b[0m\u001b[0;34m'$PIPE_DATA/workspace/2021smj/*/*.dcmp'\u001b[0m\u001b[0;34m)\u001b[0m\u001b[0;34m)\u001b[0m\u001b[0;34m\u001b[0m\u001b[0;34m\u001b[0m\u001b[0m\n\u001b[0;32m----> 5\u001b[0;31m \u001b[0;32mfor\u001b[0m \u001b[0md\u001b[0m \u001b[0;32min\u001b[0m \u001b[0mdcmpfiles\u001b[0m\u001b[0;34m:\u001b[0m\u001b[0;34m\u001b[0m\u001b[0;34m\u001b[0m\u001b[0m\n\u001b[0m\u001b[1;32m      6\u001b[0m     \u001b[0mzpt\u001b[0m \u001b[0;34m=\u001b[0m \u001b[0mfits\u001b[0m\u001b[0;34m.\u001b[0m\u001b[0mgetval\u001b[0m\u001b[0;34m(\u001b[0m\u001b[0md\u001b[0m\u001b[0;34m,\u001b[0m\u001b[0;34m'ZPTMAG'\u001b[0m\u001b[0;34m)\u001b[0m \u001b[0;31m# if this keyword doesn't exist it may mean that photpipe failed!\u001b[0m\u001b[0;34m\u001b[0m\u001b[0;34m\u001b[0m\u001b[0m\n\u001b[1;32m      7\u001b[0m     \u001b[0mdcmpdata\u001b[0m \u001b[0;34m=\u001b[0m \u001b[0mtxtobj\u001b[0m\u001b[0;34m(\u001b[0m\u001b[0md\u001b[0m\u001b[0;34m,\u001b[0m\u001b[0mcmpheader\u001b[0m\u001b[0;34m=\u001b[0m\u001b[0;32mTrue\u001b[0m\u001b[0;34m)\u001b[0m\u001b[0;34m\u001b[0m\u001b[0;34m\u001b[0m\u001b[0m\n",
      "\u001b[0;31mNameError\u001b[0m: name 'dcmpfiles' is not defined"
     ]
    }
   ],
   "source": [
    "from txtobj import txtobj\n",
    "from astropy.io import fits\n",
    "from astropy.wcs import WCS\n",
    "dcmp_files = glob.glob(os.path.expandvars('$PIPE_DATA/workspace/2021smj/*/*.dcmp'))\n",
    "for d in dcmpfiles:\n",
    "    zpt = fits.getval(d,'ZPTMAG') # if this keyword doesn't exist it may mean that photpipe failed!\n",
    "    dcmpdata = txtobj(d,cmpheader=True)\n",
    "    wcs = WCS(d)\n",
    "    xsn,ysn = wcs.wcs_world2pix(snra,sndec,0)\n",
    "    sep = np.sqrt((xsn-dcmpdata.Xpos)**2.+(ysn-dcmpdata.Ypos)**2.)\n",
    "    if len(np.where(sep < 2)[0]):\n",
    "        mag = -2.5*np.log10(dcmpdata.flux[sep == min(sep)][0])+zpt\n",
    "        magerr = 1.086*dcmpdata.dflux[sep == min(sep)][0]/dcmpdata.flux[sep == min(sep)][0]\n",
    "        print(mag,magerr)"
   ]
  },
  {
   "cell_type": "code",
   "execution_count": null,
   "metadata": {},
   "outputs": [],
   "source": []
  }
 ],
 "metadata": {
  "kernelspec": {
   "display_name": "Python 3",
   "language": "python",
   "name": "python3"
  },
  "language_info": {
   "codemirror_mode": {
    "name": "ipython",
    "version": 3
   },
   "file_extension": ".py",
   "mimetype": "text/x-python",
   "name": "python",
   "nbconvert_exporter": "python",
   "pygments_lexer": "ipython3",
   "version": "3.7.9"
  }
 },
 "nbformat": 4,
 "nbformat_minor": 4
}
