{
 "cells": [
  {
   "cell_type": "markdown",
   "metadata": {},
   "source": [
    "### Getting YSE Data for a Given RA/Dec"
   ]
  },
  {
   "cell_type": "code",
   "execution_count": 1,
   "metadata": {},
   "outputs": [
    {
     "name": "stderr",
     "output_type": "stream",
     "text": [
      "WARNING: leap-second auto-update failed due to the following exception: ValueError(\"Malformed URL: '//anaconda3/lib/python3.7/site-packages/astropy/utils/iers/data/Leap_Second.dat'\") [astropy.time.core]\n"
     ]
    }
   ],
   "source": [
    "import numpy as np\n",
    "import requests\n",
    "from lxml import html\n",
    "import re\n",
    "from astropy.coordinates import SkyCoord\n",
    "import astropy.units as u\n",
    "import glob\n",
    "import tarfile\n",
    "import os"
   ]
  },
  {
   "cell_type": "markdown",
   "metadata": {},
   "source": [
    "1. Log in to the DARK cluster\n",
    "2. Get the skycell ID for the RA/dec to translate from WCS coords to the PS1 sky tessellation\n",
    "3. Use the skycell IDs to grab the images containing your coordinates\n",
    "4. Extract the files you care about from the tarball"
   ]
  },
  {
   "cell_type": "code",
   "execution_count": 2,
   "metadata": {},
   "outputs": [],
   "source": [
    "### skycell ID function, from Armin\n",
    "def getskycell(ra,dec):\n",
    "    session = requests.Session()\n",
    "    session.auth = ('ps1sc','skysurveys')\n",
    "    skycellurl = 'http://pstamp.ipp.ifa.hawaii.edu/findskycell.php'\n",
    "    Nx,Ny = 6279,6261\n",
    "    \n",
    "    # First login. Returns session cookie in response header. Even though status_code=401, it is ok\n",
    "    page = session.post(skycellurl)\n",
    "        \n",
    "    info = {'ra': (None, str(ra)), 'dec': (None, str(dec))}\n",
    "\n",
    "    page = session.post(skycellurl, files=info)\n",
    "    if page.status_code!=200:\n",
    "        raise RuntimeError('Could not get the webpage %s setting ra=%s and dec=%s, status message %s' % (skycellurl,ra,dec,page.text))\n",
    "\n",
    "    tree = html.fromstring(page.text)\n",
    "    skycells=[]\n",
    "    Xs=[]\n",
    "    Ys=[]\n",
    "    for cell in tree.xpath(\"//td[text()='RINGS.V3']/following::td[1]\"):\n",
    "        skycells.append(re.sub('skycell\\.','',cell.text_content()))\n",
    "    for cell in tree.xpath(\"//td[text()='RINGS.V3']/following::td[2]\"):\n",
    "        Xs.append(float(cell.text_content()))\n",
    "    for cell in tree.xpath(\"//td[text()='RINGS.V3']/following::td[3]\"):\n",
    "        Ys.append(float(cell.text_content()))\n",
    "\n",
    "    if len(skycells)==1:\n",
    "        best_i=0\n",
    "    else:\n",
    "        # get the best skycell: biggest distance to the border of the image\n",
    "        best_i = None\n",
    "        bestmindistance = 0.0\n",
    "        for i in range(len(skycells)):\n",
    "            mindistance = min(abs(Nx-Xs[i]),abs(0-Xs[i]),abs(Ny-Ys[i]),abs(0-Ys[i]))\n",
    "            if mindistance>bestmindistance:\n",
    "                best_i = i\n",
    "                bestmindistance=mindistance\n",
    "\n",
    "        if best_i==None: raise RuntimeError('BUG!!!')\n",
    "        #print('best skycell:',skycells[best_i],Xs[best_i],Ys[best_i])\n",
    "\n",
    "    return(skycells[best_i],Xs[best_i],Ys[best_i],len(skycells))"
   ]
  },
  {
   "cell_type": "markdown",
   "metadata": {},
   "source": [
    "Let's look for variability in M87 now:"
   ]
  },
  {
   "cell_type": "code",
   "execution_count": 3,
   "metadata": {},
   "outputs": [
    {
     "name": "stdout",
     "output_type": "stream",
     "text": [
      "skycell: 1636.006\n"
     ]
    }
   ],
   "source": [
    "# first get the skycell ID\n",
    "sc = SkyCoord('12:30:49.42338230','+12:23:28.0438581',unit=(u.hour,u.deg))\n",
    "skycell = getskycell(sc.ra.deg,sc.dec.deg)[0]\n",
    "print(f\"skycell: {skycell}\")"
   ]
  },
  {
   "cell_type": "markdown",
   "metadata": {},
   "source": [
    "Now we can grab all the images containing M87"
   ]
  },
  {
   "cell_type": "code",
   "execution_count": 4,
   "metadata": {},
   "outputs": [],
   "source": [
    "tgzfiles = glob.glob(f\"/lustre/hpc/storage/dark/YSE/raw_YSE_data/*.warp.*/*{float(skycell)}.tgz\")"
   ]
  },
  {
   "cell_type": "markdown",
   "metadata": {},
   "source": [
    "Now loop through all the tarballs and grab the `*unconv*fits` files, save them somewhere useful"
   ]
  },
  {
   "cell_type": "code",
   "execution_count": 5,
   "metadata": {},
   "outputs": [],
   "source": [
    "my_output_dir = 'output'\n",
    "if not os.path.exists(my_output_dir):\n",
    "    os.makedirs(my_output_dir)\n",
    "\n",
    "suffix2searchstring={\n",
    "    'fits':'\\d\\.fits$',\n",
    "    'wt.fits':'\\d\\.wt\\.fits$',\n",
    "    'mask.fits':'\\d\\.mask\\.fits$'}\n",
    "\n",
    "# just get the first 10 for now\n",
    "for t in tgzfiles[0:10]:\n",
    "    tarDocument = tarfile.open(t)\n",
    "    for item in tarDocument:\n",
    "        for suffix in ['fits','wt.fits','mask.fits']:\n",
    "            if re.search(suffix2searchstring[suffix],item.name):\n",
    "                tarDocument.extract(item,my_output_dir)"
   ]
  },
  {
   "cell_type": "markdown",
   "metadata": {},
   "source": [
    "For a lot of files, this is pretty slow, so we can write a bash job for each tarball instead.  First we write a quick script and save it to `get_YSE_tarball.py`:\n",
    "\n",
    "```\n",
    "import sys\n",
    "import os\n",
    "import tarfile\n",
    "\n",
    "def get_tarball(tgzfile,outdir):\n",
    "\n",
    "    if not os.path.exists(outdir):\n",
    "        os.makedirs(my_output_dir)\n",
    "\n",
    "    suffix2searchstring={\n",
    "        'fits':'\\d\\.fits$',\n",
    "        'wt.fits':'\\d\\.wt\\.fits$',\n",
    "        'mask.fits':'\\d\\.mask\\.fits$'}\n",
    "\n",
    "    tarDocument = tarfile.open(tgzfile)\n",
    "    for item in tarDocument:\n",
    "        for suffix in ['fits','wt.fits','mask.fits']:\n",
    "            if re.search(suffix2searchstring[suffix],item.name):\n",
    "                tarDocument.extract(item,outdir)\n",
    "\n",
    "if __name__ == \"__main__\":\n",
    "    import pdb; pdb.set_trace()\n",
    "    get_tarball(sys.argv[1],sys.argv[2])\n",
    "```\n"
   ]
  },
  {
   "cell_type": "code",
   "execution_count": 6,
   "metadata": {},
   "outputs": [],
   "source": [
    "# let's use a batch script to get the next 10\n",
    "batch_header = \"\"\"#!/bin/bash\n",
    "#SBATCH -o yse_data_copy.%i.stdout\n",
    "#SBATCH -e yse_data_copy.%i.stderr\n",
    "#SBATCH -p dark\n",
    "#SBATCH --nodes 1\n",
    "#SBATCH --ntasks-per-node 1\n",
    "#SBATCH --ntasks-per-core 1\n",
    "#SBATCH --mem-per-cpu 2000\n",
    "#SBATCH --time=06:00:00\"\"\"\n",
    "\n",
    "for i,t in enumerate(tgzfiles[10:20]):\n",
    "    print(t)\n",
    "    # I put the above lines into a short script that can be run at\n",
    "    # the command line\n",
    "    batch_cmd = f\"python get_YSE_tarball.py {t} {my_output_dir}\"\n",
    "\n",
    "    with open(f'batch_data_job_{i}.sh','w') as fout:\n",
    "        print(batch_header%(i,i),file=fout)\n",
    "        print(batch_cmd,file=fout)\n",
    "        print('',file=fout)\n",
    "    os.system(f'sbatch batch_data_job_{i}.sh')"
   ]
  },
  {
   "cell_type": "markdown",
   "metadata": {},
   "source": [
    "The data should all now be in the output directory and can be pulled up in a DS9 window"
   ]
  },
  {
   "cell_type": "code",
   "execution_count": null,
   "metadata": {},
   "outputs": [],
   "source": []
  }
 ],
 "metadata": {
  "kernelspec": {
   "display_name": "Python 3",
   "language": "python",
   "name": "python3"
  },
  "language_info": {
   "codemirror_mode": {
    "name": "ipython",
    "version": 3
   },
   "file_extension": ".py",
   "mimetype": "text/x-python",
   "name": "python",
   "nbconvert_exporter": "python",
   "pygments_lexer": "ipython3",
   "version": "3.7.9"
  }
 },
 "nbformat": 4,
 "nbformat_minor": 4
}
